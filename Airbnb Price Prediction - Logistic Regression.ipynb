{
 "cells": [
  {
   "cell_type": "code",
   "execution_count": 2,
   "id": "c0a2473f",
   "metadata": {},
   "outputs": [],
   "source": [
    "import numpy as np\n",
    "import pandas as pd\n",
    "import matplotlib.pyplot  as plt\n",
    "import seaborn as sns\n",
    "%matplotlib inline\n",
    "\n",
    "airbnb_price = pd.read_csv(\"/../airbnb_price.csv\")"
   ]
  },
  {
   "cell_type": "code",
   "execution_count": 3,
   "id": "4df7a175",
   "metadata": {},
   "outputs": [],
   "source": [
    "airbnb_review = pd.read_csv(\"/../airbnb_last_review.csv\")"
   ]
  },
  {
   "cell_type": "code",
   "execution_count": 4,
   "id": "7346fbd8",
   "metadata": {},
   "outputs": [],
   "source": [
    "airbnb_roomtyp= pd.read_excel(\"/../airbnb_room_type.xlsx\")"
   ]
  },
  {
   "cell_type": "markdown",
   "id": "8e45c4d9",
   "metadata": {},
   "source": [
    "### Data Preprocessing"
   ]
  },
  {
   "cell_type": "code",
   "execution_count": 5,
   "id": "6da1f07a",
   "metadata": {},
   "outputs": [
    {
     "name": "stdout",
     "output_type": "stream",
     "text": [
      "<bound method NDFrame.head of        listing_id        price                 nbhood_full\n",
      "0            2595  225 dollars          Manhattan, Midtown\n",
      "1            3831   89 dollars      Brooklyn, Clinton Hill\n",
      "2            5099  200 dollars      Manhattan, Murray Hill\n",
      "3            5178   79 dollars   Manhattan, Hell's Kitchen\n",
      "4            5238  150 dollars        Manhattan, Chinatown\n",
      "...           ...          ...                         ...\n",
      "25204    36425863  129 dollars  Manhattan, Upper East Side\n",
      "25205    36427429   45 dollars            Queens, Flushing\n",
      "25206    36438336  235 dollars  Staten Island, Great Kills\n",
      "25207    36442252  100 dollars           Bronx, Mott Haven\n",
      "25208    36455809   30 dollars          Brooklyn, Bushwick\n",
      "\n",
      "[25209 rows x 3 columns]>\n",
      "<bound method NDFrame.head of         listing_id    host_name   last_review\n",
      "0             2595     Jennifer   May 21 2019\n",
      "1             3831  LisaRoxanne  July 05 2019\n",
      "2             5099        Chris  June 22 2019\n",
      "3             5178     Shunichi  June 24 2019\n",
      "4             5238          Ben  June 09 2019\n",
      "...            ...          ...           ...\n",
      "25204     36425863        Rusaa  July 07 2019\n",
      "25205     36427429         H Ai  July 07 2019\n",
      "25206     36438336          Ben  July 07 2019\n",
      "25207     36442252       Blaine  July 07 2019\n",
      "25208     36455809    Christine  July 08 2019\n",
      "\n",
      "[25209 rows x 3 columns]>\n",
      "<bound method NDFrame.head of        listing_id                                 description        room_type\n",
      "0            2595                       Skylit Midtown Castle  Entire home/apt\n",
      "1            3831             Cozy Entire Floor of Brownstone  Entire home/apt\n",
      "2            5099   Large Cozy 1 BR Apartment In Midtown East  Entire home/apt\n",
      "3            5178             Large Furnished Room Near B'way     private room\n",
      "4            5238          Cute & Cozy Lower East Side 1 bdrm  Entire home/apt\n",
      "...           ...                                         ...              ...\n",
      "25204    36425863  Lovely Privet Bedroom with Privet Restroom     PRIVATE ROOM\n",
      "25205    36427429                    No.2 with queen size bed     PRIVATE ROOM\n",
      "25206    36438336                             Seas The Moment     Private room\n",
      "25207    36442252               1B-1B apartment near by Metro  Entire home/apt\n",
      "25208    36455809     Cozy Private Room in Bushwick, Brooklyn     Private room\n",
      "\n",
      "[25209 rows x 3 columns]>\n"
     ]
    }
   ],
   "source": [
    "print(airbnb_price.head)\n",
    "print(airbnb_review.head)\n",
    "print(airbnb_roomtyp.head)"
   ]
  },
  {
   "cell_type": "code",
   "execution_count": 6,
   "id": "f700f4f2",
   "metadata": {},
   "outputs": [
    {
     "name": "stdout",
     "output_type": "stream",
     "text": [
      "<class 'pandas.core.frame.DataFrame'>\n",
      "RangeIndex: 25209 entries, 0 to 25208\n",
      "Data columns (total 3 columns):\n",
      " #   Column       Non-Null Count  Dtype \n",
      "---  ------       --------------  ----- \n",
      " 0   listing_id   25209 non-null  int64 \n",
      " 1   price        25209 non-null  object\n",
      " 2   nbhood_full  25209 non-null  object\n",
      "dtypes: int64(1), object(2)\n",
      "memory usage: 591.0+ KB\n",
      "<class 'pandas.core.frame.DataFrame'>\n",
      "RangeIndex: 25209 entries, 0 to 25208\n",
      "Data columns (total 3 columns):\n",
      " #   Column       Non-Null Count  Dtype \n",
      "---  ------       --------------  ----- \n",
      " 0    listing_id  25209 non-null  int64 \n",
      " 1   host_name    25201 non-null  object\n",
      " 2   last_review  25209 non-null  object\n",
      "dtypes: int64(1), object(2)\n",
      "memory usage: 591.0+ KB\n",
      "<class 'pandas.core.frame.DataFrame'>\n",
      "RangeIndex: 25209 entries, 0 to 25208\n",
      "Data columns (total 3 columns):\n",
      " #   Column       Non-Null Count  Dtype \n",
      "---  ------       --------------  ----- \n",
      " 0   listing_id   25209 non-null  int64 \n",
      " 1   description  25199 non-null  object\n",
      " 2   room_type    25209 non-null  object\n",
      "dtypes: int64(1), object(2)\n",
      "memory usage: 591.0+ KB\n"
     ]
    }
   ],
   "source": [
    "for df in airbnb_price,airbnb_review,airbnb_roomtyp:\n",
    "    df.info()"
   ]
  },
  {
   "cell_type": "code",
   "execution_count": 7,
   "id": "3e51e45e",
   "metadata": {},
   "outputs": [
    {
     "name": "stdout",
     "output_type": "stream",
     "text": [
      "<class 'pandas.core.frame.DataFrame'>\n",
      "RangeIndex: 25209 entries, 0 to 25208\n",
      "Data columns (total 3 columns):\n",
      " #   Column       Non-Null Count  Dtype \n",
      "---  ------       --------------  ----- \n",
      " 0   listing_id   25209 non-null  int64 \n",
      " 1   host_name    25201 non-null  object\n",
      " 2   last_review  25209 non-null  object\n",
      "dtypes: int64(1), object(2)\n",
      "memory usage: 591.0+ KB\n"
     ]
    }
   ],
   "source": [
    "#Remove the extra space from listing_id column in airbnb_review data frame\n",
    "airbnb_review=airbnb_review.rename({' listing_id':'listing_id'},axis=1)\n",
    "airbnb_review.info()"
   ]
  },
  {
   "cell_type": "code",
   "execution_count": 8,
   "id": "7d6884e6",
   "metadata": {},
   "outputs": [
    {
     "name": "stdout",
     "output_type": "stream",
     "text": [
      "<class 'pandas.core.frame.DataFrame'>\n",
      "Int64Index: 25209 entries, 0 to 25208\n",
      "Data columns (total 7 columns):\n",
      " #   Column       Non-Null Count  Dtype \n",
      "---  ------       --------------  ----- \n",
      " 0   listing_id   25209 non-null  int64 \n",
      " 1   host_name    25201 non-null  object\n",
      " 2   last_review  25209 non-null  object\n",
      " 3   price        25209 non-null  object\n",
      " 4   nbhood_full  25209 non-null  object\n",
      " 5   description  25199 non-null  object\n",
      " 6   room_type    25209 non-null  object\n",
      "dtypes: int64(1), object(6)\n",
      "memory usage: 1.5+ MB\n"
     ]
    }
   ],
   "source": [
    "airbnb= pd.merge(airbnb_review,airbnb_price,on='listing_id')\n",
    "airbnb= pd.merge(airbnb,airbnb_roomtyp,on='listing_id')\n",
    "airbnb.info()"
   ]
  },
  {
   "cell_type": "code",
   "execution_count": 9,
   "id": "24ddbc56",
   "metadata": {},
   "outputs": [
    {
     "data": {
      "text/html": [
       "<div>\n",
       "<style scoped>\n",
       "    .dataframe tbody tr th:only-of-type {\n",
       "        vertical-align: middle;\n",
       "    }\n",
       "\n",
       "    .dataframe tbody tr th {\n",
       "        vertical-align: top;\n",
       "    }\n",
       "\n",
       "    .dataframe thead th {\n",
       "        text-align: right;\n",
       "    }\n",
       "</style>\n",
       "<table border=\"1\" class=\"dataframe\">\n",
       "  <thead>\n",
       "    <tr style=\"text-align: right;\">\n",
       "      <th></th>\n",
       "      <th>listing_id</th>\n",
       "      <th>host_name</th>\n",
       "      <th>last_review</th>\n",
       "      <th>price</th>\n",
       "      <th>nbhood_full</th>\n",
       "      <th>description</th>\n",
       "      <th>room_type</th>\n",
       "    </tr>\n",
       "  </thead>\n",
       "  <tbody>\n",
       "    <tr>\n",
       "      <th>0</th>\n",
       "      <td>2595</td>\n",
       "      <td>Jennifer</td>\n",
       "      <td>May 21 2019</td>\n",
       "      <td>225 dollars</td>\n",
       "      <td>Manhattan, Midtown</td>\n",
       "      <td>Skylit Midtown Castle</td>\n",
       "      <td>Entire home/apt</td>\n",
       "    </tr>\n",
       "    <tr>\n",
       "      <th>1</th>\n",
       "      <td>3831</td>\n",
       "      <td>LisaRoxanne</td>\n",
       "      <td>July 05 2019</td>\n",
       "      <td>89 dollars</td>\n",
       "      <td>Brooklyn, Clinton Hill</td>\n",
       "      <td>Cozy Entire Floor of Brownstone</td>\n",
       "      <td>Entire home/apt</td>\n",
       "    </tr>\n",
       "    <tr>\n",
       "      <th>2</th>\n",
       "      <td>5099</td>\n",
       "      <td>Chris</td>\n",
       "      <td>June 22 2019</td>\n",
       "      <td>200 dollars</td>\n",
       "      <td>Manhattan, Murray Hill</td>\n",
       "      <td>Large Cozy 1 BR Apartment In Midtown East</td>\n",
       "      <td>Entire home/apt</td>\n",
       "    </tr>\n",
       "    <tr>\n",
       "      <th>3</th>\n",
       "      <td>5178</td>\n",
       "      <td>Shunichi</td>\n",
       "      <td>June 24 2019</td>\n",
       "      <td>79 dollars</td>\n",
       "      <td>Manhattan, Hell's Kitchen</td>\n",
       "      <td>Large Furnished Room Near B'way</td>\n",
       "      <td>private room</td>\n",
       "    </tr>\n",
       "    <tr>\n",
       "      <th>4</th>\n",
       "      <td>5238</td>\n",
       "      <td>Ben</td>\n",
       "      <td>June 09 2019</td>\n",
       "      <td>150 dollars</td>\n",
       "      <td>Manhattan, Chinatown</td>\n",
       "      <td>Cute &amp; Cozy Lower East Side 1 bdrm</td>\n",
       "      <td>Entire home/apt</td>\n",
       "    </tr>\n",
       "  </tbody>\n",
       "</table>\n",
       "</div>"
      ],
      "text/plain": [
       "   listing_id    host_name   last_review        price  \\\n",
       "0        2595     Jennifer   May 21 2019  225 dollars   \n",
       "1        3831  LisaRoxanne  July 05 2019   89 dollars   \n",
       "2        5099        Chris  June 22 2019  200 dollars   \n",
       "3        5178     Shunichi  June 24 2019   79 dollars   \n",
       "4        5238          Ben  June 09 2019  150 dollars   \n",
       "\n",
       "                 nbhood_full                                description  \\\n",
       "0         Manhattan, Midtown                      Skylit Midtown Castle   \n",
       "1     Brooklyn, Clinton Hill            Cozy Entire Floor of Brownstone   \n",
       "2     Manhattan, Murray Hill  Large Cozy 1 BR Apartment In Midtown East   \n",
       "3  Manhattan, Hell's Kitchen            Large Furnished Room Near B'way   \n",
       "4       Manhattan, Chinatown         Cute & Cozy Lower East Side 1 bdrm   \n",
       "\n",
       "         room_type  \n",
       "0  Entire home/apt  \n",
       "1  Entire home/apt  \n",
       "2  Entire home/apt  \n",
       "3     private room  \n",
       "4  Entire home/apt  "
      ]
     },
     "execution_count": 9,
     "metadata": {},
     "output_type": "execute_result"
    }
   ],
   "source": [
    "airbnb.head(5)"
   ]
  },
  {
   "cell_type": "markdown",
   "id": "1008c056",
   "metadata": {},
   "source": [
    "## Feature Engineering"
   ]
  },
  {
   "cell_type": "code",
   "execution_count": 10,
   "id": "01020990",
   "metadata": {},
   "outputs": [],
   "source": [
    "## Change the column last_review to datetime\n",
    "airbnb['last_review']=pd.to_datetime(airbnb['last_review'])"
   ]
  },
  {
   "cell_type": "code",
   "execution_count": 11,
   "id": "d08da4f4",
   "metadata": {},
   "outputs": [
    {
     "data": {
      "text/html": [
       "<div>\n",
       "<style scoped>\n",
       "    .dataframe tbody tr th:only-of-type {\n",
       "        vertical-align: middle;\n",
       "    }\n",
       "\n",
       "    .dataframe tbody tr th {\n",
       "        vertical-align: top;\n",
       "    }\n",
       "\n",
       "    .dataframe thead th {\n",
       "        text-align: right;\n",
       "    }\n",
       "</style>\n",
       "<table border=\"1\" class=\"dataframe\">\n",
       "  <thead>\n",
       "    <tr style=\"text-align: right;\">\n",
       "      <th></th>\n",
       "      <th>listing_id</th>\n",
       "      <th>host_name</th>\n",
       "      <th>last_review</th>\n",
       "      <th>price</th>\n",
       "      <th>nbhood_full</th>\n",
       "      <th>description</th>\n",
       "      <th>room_type</th>\n",
       "    </tr>\n",
       "  </thead>\n",
       "  <tbody>\n",
       "    <tr>\n",
       "      <th>0</th>\n",
       "      <td>2595</td>\n",
       "      <td>Jennifer</td>\n",
       "      <td>2019-05-21</td>\n",
       "      <td>225 dollars</td>\n",
       "      <td>Manhattan, Midtown</td>\n",
       "      <td>Skylit Midtown Castle</td>\n",
       "      <td>Entire home/apt</td>\n",
       "    </tr>\n",
       "    <tr>\n",
       "      <th>1</th>\n",
       "      <td>3831</td>\n",
       "      <td>LisaRoxanne</td>\n",
       "      <td>2019-07-05</td>\n",
       "      <td>89 dollars</td>\n",
       "      <td>Brooklyn, Clinton Hill</td>\n",
       "      <td>Cozy Entire Floor of Brownstone</td>\n",
       "      <td>Entire home/apt</td>\n",
       "    </tr>\n",
       "    <tr>\n",
       "      <th>2</th>\n",
       "      <td>5099</td>\n",
       "      <td>Chris</td>\n",
       "      <td>2019-06-22</td>\n",
       "      <td>200 dollars</td>\n",
       "      <td>Manhattan, Murray Hill</td>\n",
       "      <td>Large Cozy 1 BR Apartment In Midtown East</td>\n",
       "      <td>Entire home/apt</td>\n",
       "    </tr>\n",
       "    <tr>\n",
       "      <th>3</th>\n",
       "      <td>5178</td>\n",
       "      <td>Shunichi</td>\n",
       "      <td>2019-06-24</td>\n",
       "      <td>79 dollars</td>\n",
       "      <td>Manhattan, Hell's Kitchen</td>\n",
       "      <td>Large Furnished Room Near B'way</td>\n",
       "      <td>private room</td>\n",
       "    </tr>\n",
       "    <tr>\n",
       "      <th>4</th>\n",
       "      <td>5238</td>\n",
       "      <td>Ben</td>\n",
       "      <td>2019-06-09</td>\n",
       "      <td>150 dollars</td>\n",
       "      <td>Manhattan, Chinatown</td>\n",
       "      <td>Cute &amp; Cozy Lower East Side 1 bdrm</td>\n",
       "      <td>Entire home/apt</td>\n",
       "    </tr>\n",
       "  </tbody>\n",
       "</table>\n",
       "</div>"
      ],
      "text/plain": [
       "   listing_id    host_name last_review        price  \\\n",
       "0        2595     Jennifer  2019-05-21  225 dollars   \n",
       "1        3831  LisaRoxanne  2019-07-05   89 dollars   \n",
       "2        5099        Chris  2019-06-22  200 dollars   \n",
       "3        5178     Shunichi  2019-06-24   79 dollars   \n",
       "4        5238          Ben  2019-06-09  150 dollars   \n",
       "\n",
       "                 nbhood_full                                description  \\\n",
       "0         Manhattan, Midtown                      Skylit Midtown Castle   \n",
       "1     Brooklyn, Clinton Hill            Cozy Entire Floor of Brownstone   \n",
       "2     Manhattan, Murray Hill  Large Cozy 1 BR Apartment In Midtown East   \n",
       "3  Manhattan, Hell's Kitchen            Large Furnished Room Near B'way   \n",
       "4       Manhattan, Chinatown         Cute & Cozy Lower East Side 1 bdrm   \n",
       "\n",
       "         room_type  \n",
       "0  Entire home/apt  \n",
       "1  Entire home/apt  \n",
       "2  Entire home/apt  \n",
       "3     private room  \n",
       "4  Entire home/apt  "
      ]
     },
     "execution_count": 11,
     "metadata": {},
     "output_type": "execute_result"
    }
   ],
   "source": [
    "airbnb.head(5)"
   ]
  },
  {
   "cell_type": "code",
   "execution_count": 12,
   "id": "8c4dc20d",
   "metadata": {},
   "outputs": [
    {
     "data": {
      "text/html": [
       "<div>\n",
       "<style scoped>\n",
       "    .dataframe tbody tr th:only-of-type {\n",
       "        vertical-align: middle;\n",
       "    }\n",
       "\n",
       "    .dataframe tbody tr th {\n",
       "        vertical-align: top;\n",
       "    }\n",
       "\n",
       "    .dataframe thead th {\n",
       "        text-align: right;\n",
       "    }\n",
       "</style>\n",
       "<table border=\"1\" class=\"dataframe\">\n",
       "  <thead>\n",
       "    <tr style=\"text-align: right;\">\n",
       "      <th></th>\n",
       "      <th>listing_id</th>\n",
       "      <th>host_name</th>\n",
       "      <th>last_review</th>\n",
       "      <th>price</th>\n",
       "      <th>nbhood_full</th>\n",
       "      <th>description</th>\n",
       "      <th>room_type</th>\n",
       "    </tr>\n",
       "  </thead>\n",
       "  <tbody>\n",
       "    <tr>\n",
       "      <th>0</th>\n",
       "      <td>2595</td>\n",
       "      <td>Jennifer</td>\n",
       "      <td>2019-05-21</td>\n",
       "      <td>225.0</td>\n",
       "      <td>Manhattan, Midtown</td>\n",
       "      <td>Skylit Midtown Castle</td>\n",
       "      <td>Entire home/apt</td>\n",
       "    </tr>\n",
       "    <tr>\n",
       "      <th>1</th>\n",
       "      <td>3831</td>\n",
       "      <td>LisaRoxanne</td>\n",
       "      <td>2019-07-05</td>\n",
       "      <td>89.0</td>\n",
       "      <td>Brooklyn, Clinton Hill</td>\n",
       "      <td>Cozy Entire Floor of Brownstone</td>\n",
       "      <td>Entire home/apt</td>\n",
       "    </tr>\n",
       "    <tr>\n",
       "      <th>2</th>\n",
       "      <td>5099</td>\n",
       "      <td>Chris</td>\n",
       "      <td>2019-06-22</td>\n",
       "      <td>200.0</td>\n",
       "      <td>Manhattan, Murray Hill</td>\n",
       "      <td>Large Cozy 1 BR Apartment In Midtown East</td>\n",
       "      <td>Entire home/apt</td>\n",
       "    </tr>\n",
       "    <tr>\n",
       "      <th>3</th>\n",
       "      <td>5178</td>\n",
       "      <td>Shunichi</td>\n",
       "      <td>2019-06-24</td>\n",
       "      <td>79.0</td>\n",
       "      <td>Manhattan, Hell's Kitchen</td>\n",
       "      <td>Large Furnished Room Near B'way</td>\n",
       "      <td>private room</td>\n",
       "    </tr>\n",
       "    <tr>\n",
       "      <th>4</th>\n",
       "      <td>5238</td>\n",
       "      <td>Ben</td>\n",
       "      <td>2019-06-09</td>\n",
       "      <td>150.0</td>\n",
       "      <td>Manhattan, Chinatown</td>\n",
       "      <td>Cute &amp; Cozy Lower East Side 1 bdrm</td>\n",
       "      <td>Entire home/apt</td>\n",
       "    </tr>\n",
       "  </tbody>\n",
       "</table>\n",
       "</div>"
      ],
      "text/plain": [
       "   listing_id    host_name last_review  price                nbhood_full  \\\n",
       "0        2595     Jennifer  2019-05-21  225.0         Manhattan, Midtown   \n",
       "1        3831  LisaRoxanne  2019-07-05   89.0     Brooklyn, Clinton Hill   \n",
       "2        5099        Chris  2019-06-22  200.0     Manhattan, Murray Hill   \n",
       "3        5178     Shunichi  2019-06-24   79.0  Manhattan, Hell's Kitchen   \n",
       "4        5238          Ben  2019-06-09  150.0       Manhattan, Chinatown   \n",
       "\n",
       "                                 description        room_type  \n",
       "0                      Skylit Midtown Castle  Entire home/apt  \n",
       "1            Cozy Entire Floor of Brownstone  Entire home/apt  \n",
       "2  Large Cozy 1 BR Apartment In Midtown East  Entire home/apt  \n",
       "3            Large Furnished Room Near B'way     private room  \n",
       "4         Cute & Cozy Lower East Side 1 bdrm  Entire home/apt  "
      ]
     },
     "execution_count": 12,
     "metadata": {},
     "output_type": "execute_result"
    }
   ],
   "source": [
    "## Change the column price to float\n",
    "airbnb['price']=airbnb['price'].apply(lambda x : x.split(' ')[0])\n",
    "airbnb['price']=airbnb['price'].astype(float)\n",
    "airbnb.head(5)"
   ]
  },
  {
   "cell_type": "code",
   "execution_count": 13,
   "id": "d2f6e406",
   "metadata": {},
   "outputs": [
    {
     "data": {
      "text/html": [
       "<div>\n",
       "<style scoped>\n",
       "    .dataframe tbody tr th:only-of-type {\n",
       "        vertical-align: middle;\n",
       "    }\n",
       "\n",
       "    .dataframe tbody tr th {\n",
       "        vertical-align: top;\n",
       "    }\n",
       "\n",
       "    .dataframe thead th {\n",
       "        text-align: right;\n",
       "    }\n",
       "</style>\n",
       "<table border=\"1\" class=\"dataframe\">\n",
       "  <thead>\n",
       "    <tr style=\"text-align: right;\">\n",
       "      <th></th>\n",
       "      <th>listing_id</th>\n",
       "      <th>host_name</th>\n",
       "      <th>last_review</th>\n",
       "      <th>price($)</th>\n",
       "      <th>nbhood_full</th>\n",
       "      <th>description</th>\n",
       "      <th>room_type</th>\n",
       "    </tr>\n",
       "  </thead>\n",
       "  <tbody>\n",
       "    <tr>\n",
       "      <th>0</th>\n",
       "      <td>2595</td>\n",
       "      <td>Jennifer</td>\n",
       "      <td>2019-05-21</td>\n",
       "      <td>225.0</td>\n",
       "      <td>Manhattan, Midtown</td>\n",
       "      <td>Skylit Midtown Castle</td>\n",
       "      <td>Entire home/apt</td>\n",
       "    </tr>\n",
       "    <tr>\n",
       "      <th>1</th>\n",
       "      <td>3831</td>\n",
       "      <td>LisaRoxanne</td>\n",
       "      <td>2019-07-05</td>\n",
       "      <td>89.0</td>\n",
       "      <td>Brooklyn, Clinton Hill</td>\n",
       "      <td>Cozy Entire Floor of Brownstone</td>\n",
       "      <td>Entire home/apt</td>\n",
       "    </tr>\n",
       "    <tr>\n",
       "      <th>2</th>\n",
       "      <td>5099</td>\n",
       "      <td>Chris</td>\n",
       "      <td>2019-06-22</td>\n",
       "      <td>200.0</td>\n",
       "      <td>Manhattan, Murray Hill</td>\n",
       "      <td>Large Cozy 1 BR Apartment In Midtown East</td>\n",
       "      <td>Entire home/apt</td>\n",
       "    </tr>\n",
       "    <tr>\n",
       "      <th>3</th>\n",
       "      <td>5178</td>\n",
       "      <td>Shunichi</td>\n",
       "      <td>2019-06-24</td>\n",
       "      <td>79.0</td>\n",
       "      <td>Manhattan, Hell's Kitchen</td>\n",
       "      <td>Large Furnished Room Near B'way</td>\n",
       "      <td>private room</td>\n",
       "    </tr>\n",
       "    <tr>\n",
       "      <th>4</th>\n",
       "      <td>5238</td>\n",
       "      <td>Ben</td>\n",
       "      <td>2019-06-09</td>\n",
       "      <td>150.0</td>\n",
       "      <td>Manhattan, Chinatown</td>\n",
       "      <td>Cute &amp; Cozy Lower East Side 1 bdrm</td>\n",
       "      <td>Entire home/apt</td>\n",
       "    </tr>\n",
       "  </tbody>\n",
       "</table>\n",
       "</div>"
      ],
      "text/plain": [
       "   listing_id    host_name last_review  price($)                nbhood_full  \\\n",
       "0        2595     Jennifer  2019-05-21     225.0         Manhattan, Midtown   \n",
       "1        3831  LisaRoxanne  2019-07-05      89.0     Brooklyn, Clinton Hill   \n",
       "2        5099        Chris  2019-06-22     200.0     Manhattan, Murray Hill   \n",
       "3        5178     Shunichi  2019-06-24      79.0  Manhattan, Hell's Kitchen   \n",
       "4        5238          Ben  2019-06-09     150.0       Manhattan, Chinatown   \n",
       "\n",
       "                                 description        room_type  \n",
       "0                      Skylit Midtown Castle  Entire home/apt  \n",
       "1            Cozy Entire Floor of Brownstone  Entire home/apt  \n",
       "2  Large Cozy 1 BR Apartment In Midtown East  Entire home/apt  \n",
       "3            Large Furnished Room Near B'way     private room  \n",
       "4         Cute & Cozy Lower East Side 1 bdrm  Entire home/apt  "
      ]
     },
     "execution_count": 13,
     "metadata": {},
     "output_type": "execute_result"
    }
   ],
   "source": [
    "## rename column price \n",
    "airbnb=airbnb.rename({'price':'price($)'},axis=1)\n",
    "airbnb.head(5)"
   ]
  },
  {
   "cell_type": "code",
   "execution_count": 14,
   "id": "3415578d",
   "metadata": {},
   "outputs": [
    {
     "data": {
      "text/plain": [
       "{'Entire home/apt': 'entire home/apt',\n",
       " 'Private room': 'private room',\n",
       " 'entire home/apt': 'entire home/apt',\n",
       " 'private room': 'private room',\n",
       " 'ENTIRE HOME/APT': 'entire home/apt',\n",
       " 'PRIVATE ROOM': 'private room',\n",
       " 'Shared room': 'shared room',\n",
       " 'shared room': 'shared room',\n",
       " 'SHARED ROOM': 'shared room'}"
      ]
     },
     "execution_count": 14,
     "metadata": {},
     "output_type": "execute_result"
    }
   ],
   "source": [
    "#Create room type dictinoary and then convert into lower case \n",
    "room_typel=airbnb.room_type.value_counts().index\n",
    "room_typel\n",
    "room_typeDict={}\n",
    "for room in room_typel:\n",
    "    room_str=str(room)\n",
    "    if room_str not in room_typeDict.keys():\n",
    "        room_typeDict[room_str]=room_str.lower()\n",
    "room_typeDict"
   ]
  },
  {
   "cell_type": "code",
   "execution_count": 15,
   "id": "adb0ce71",
   "metadata": {},
   "outputs": [
    {
     "data": {
      "text/html": [
       "<div>\n",
       "<style scoped>\n",
       "    .dataframe tbody tr th:only-of-type {\n",
       "        vertical-align: middle;\n",
       "    }\n",
       "\n",
       "    .dataframe tbody tr th {\n",
       "        vertical-align: top;\n",
       "    }\n",
       "\n",
       "    .dataframe thead th {\n",
       "        text-align: right;\n",
       "    }\n",
       "</style>\n",
       "<table border=\"1\" class=\"dataframe\">\n",
       "  <thead>\n",
       "    <tr style=\"text-align: right;\">\n",
       "      <th></th>\n",
       "      <th>listing_id</th>\n",
       "      <th>host_name</th>\n",
       "      <th>last_review</th>\n",
       "      <th>price($)</th>\n",
       "      <th>nbhood_full</th>\n",
       "      <th>description</th>\n",
       "      <th>room_type</th>\n",
       "    </tr>\n",
       "  </thead>\n",
       "  <tbody>\n",
       "    <tr>\n",
       "      <th>0</th>\n",
       "      <td>2595</td>\n",
       "      <td>Jennifer</td>\n",
       "      <td>2019-05-21</td>\n",
       "      <td>225.0</td>\n",
       "      <td>Manhattan, Midtown</td>\n",
       "      <td>Skylit Midtown Castle</td>\n",
       "      <td>entire home/apt</td>\n",
       "    </tr>\n",
       "    <tr>\n",
       "      <th>1</th>\n",
       "      <td>3831</td>\n",
       "      <td>LisaRoxanne</td>\n",
       "      <td>2019-07-05</td>\n",
       "      <td>89.0</td>\n",
       "      <td>Brooklyn, Clinton Hill</td>\n",
       "      <td>Cozy Entire Floor of Brownstone</td>\n",
       "      <td>entire home/apt</td>\n",
       "    </tr>\n",
       "    <tr>\n",
       "      <th>2</th>\n",
       "      <td>5099</td>\n",
       "      <td>Chris</td>\n",
       "      <td>2019-06-22</td>\n",
       "      <td>200.0</td>\n",
       "      <td>Manhattan, Murray Hill</td>\n",
       "      <td>Large Cozy 1 BR Apartment In Midtown East</td>\n",
       "      <td>entire home/apt</td>\n",
       "    </tr>\n",
       "    <tr>\n",
       "      <th>3</th>\n",
       "      <td>5178</td>\n",
       "      <td>Shunichi</td>\n",
       "      <td>2019-06-24</td>\n",
       "      <td>79.0</td>\n",
       "      <td>Manhattan, Hell's Kitchen</td>\n",
       "      <td>Large Furnished Room Near B'way</td>\n",
       "      <td>private room</td>\n",
       "    </tr>\n",
       "    <tr>\n",
       "      <th>4</th>\n",
       "      <td>5238</td>\n",
       "      <td>Ben</td>\n",
       "      <td>2019-06-09</td>\n",
       "      <td>150.0</td>\n",
       "      <td>Manhattan, Chinatown</td>\n",
       "      <td>Cute &amp; Cozy Lower East Side 1 bdrm</td>\n",
       "      <td>entire home/apt</td>\n",
       "    </tr>\n",
       "  </tbody>\n",
       "</table>\n",
       "</div>"
      ],
      "text/plain": [
       "   listing_id    host_name last_review  price($)                nbhood_full  \\\n",
       "0        2595     Jennifer  2019-05-21     225.0         Manhattan, Midtown   \n",
       "1        3831  LisaRoxanne  2019-07-05      89.0     Brooklyn, Clinton Hill   \n",
       "2        5099        Chris  2019-06-22     200.0     Manhattan, Murray Hill   \n",
       "3        5178     Shunichi  2019-06-24      79.0  Manhattan, Hell's Kitchen   \n",
       "4        5238          Ben  2019-06-09     150.0       Manhattan, Chinatown   \n",
       "\n",
       "                                 description        room_type  \n",
       "0                      Skylit Midtown Castle  entire home/apt  \n",
       "1            Cozy Entire Floor of Brownstone  entire home/apt  \n",
       "2  Large Cozy 1 BR Apartment In Midtown East  entire home/apt  \n",
       "3            Large Furnished Room Near B'way     private room  \n",
       "4         Cute & Cozy Lower East Side 1 bdrm  entire home/apt  "
      ]
     },
     "execution_count": 15,
     "metadata": {},
     "output_type": "execute_result"
    }
   ],
   "source": [
    "airbnb['room_type'].replace(room_typeDict,inplace=True)\n",
    "airbnb.head(5)"
   ]
  },
  {
   "cell_type": "code",
   "execution_count": 16,
   "id": "4a340045",
   "metadata": {},
   "outputs": [
    {
     "data": {
      "text/plain": [
       "entire home/apt    13266\n",
       "private room       11356\n",
       "shared room          587\n",
       "Name: room_type, dtype: int64"
      ]
     },
     "execution_count": 16,
     "metadata": {},
     "output_type": "execute_result"
    }
   ],
   "source": [
    "airbnb['room_type'].value_counts()"
   ]
  },
  {
   "cell_type": "code",
   "execution_count": 17,
   "id": "a3999ebc",
   "metadata": {},
   "outputs": [
    {
     "data": {
      "text/html": [
       "<div>\n",
       "<style scoped>\n",
       "    .dataframe tbody tr th:only-of-type {\n",
       "        vertical-align: middle;\n",
       "    }\n",
       "\n",
       "    .dataframe tbody tr th {\n",
       "        vertical-align: top;\n",
       "    }\n",
       "\n",
       "    .dataframe thead th {\n",
       "        text-align: right;\n",
       "    }\n",
       "</style>\n",
       "<table border=\"1\" class=\"dataframe\">\n",
       "  <thead>\n",
       "    <tr style=\"text-align: right;\">\n",
       "      <th></th>\n",
       "      <th>listing_id</th>\n",
       "      <th>host_name</th>\n",
       "      <th>last_review</th>\n",
       "      <th>price($)</th>\n",
       "      <th>nbhood_full</th>\n",
       "      <th>description</th>\n",
       "      <th>room_type</th>\n",
       "    </tr>\n",
       "  </thead>\n",
       "  <tbody>\n",
       "    <tr>\n",
       "      <th>0</th>\n",
       "      <td>2595</td>\n",
       "      <td>Jennifer</td>\n",
       "      <td>2019-05-21</td>\n",
       "      <td>225.0</td>\n",
       "      <td>Manhattan, Midtown</td>\n",
       "      <td>Skylit Midtown Castle</td>\n",
       "      <td>0</td>\n",
       "    </tr>\n",
       "    <tr>\n",
       "      <th>1</th>\n",
       "      <td>3831</td>\n",
       "      <td>LisaRoxanne</td>\n",
       "      <td>2019-07-05</td>\n",
       "      <td>89.0</td>\n",
       "      <td>Brooklyn, Clinton Hill</td>\n",
       "      <td>Cozy Entire Floor of Brownstone</td>\n",
       "      <td>0</td>\n",
       "    </tr>\n",
       "    <tr>\n",
       "      <th>2</th>\n",
       "      <td>5099</td>\n",
       "      <td>Chris</td>\n",
       "      <td>2019-06-22</td>\n",
       "      <td>200.0</td>\n",
       "      <td>Manhattan, Murray Hill</td>\n",
       "      <td>Large Cozy 1 BR Apartment In Midtown East</td>\n",
       "      <td>0</td>\n",
       "    </tr>\n",
       "    <tr>\n",
       "      <th>3</th>\n",
       "      <td>5178</td>\n",
       "      <td>Shunichi</td>\n",
       "      <td>2019-06-24</td>\n",
       "      <td>79.0</td>\n",
       "      <td>Manhattan, Hell's Kitchen</td>\n",
       "      <td>Large Furnished Room Near B'way</td>\n",
       "      <td>1</td>\n",
       "    </tr>\n",
       "    <tr>\n",
       "      <th>4</th>\n",
       "      <td>5238</td>\n",
       "      <td>Ben</td>\n",
       "      <td>2019-06-09</td>\n",
       "      <td>150.0</td>\n",
       "      <td>Manhattan, Chinatown</td>\n",
       "      <td>Cute &amp; Cozy Lower East Side 1 bdrm</td>\n",
       "      <td>0</td>\n",
       "    </tr>\n",
       "  </tbody>\n",
       "</table>\n",
       "</div>"
      ],
      "text/plain": [
       "   listing_id    host_name last_review  price($)                nbhood_full  \\\n",
       "0        2595     Jennifer  2019-05-21     225.0         Manhattan, Midtown   \n",
       "1        3831  LisaRoxanne  2019-07-05      89.0     Brooklyn, Clinton Hill   \n",
       "2        5099        Chris  2019-06-22     200.0     Manhattan, Murray Hill   \n",
       "3        5178     Shunichi  2019-06-24      79.0  Manhattan, Hell's Kitchen   \n",
       "4        5238          Ben  2019-06-09     150.0       Manhattan, Chinatown   \n",
       "\n",
       "                                 description  room_type  \n",
       "0                      Skylit Midtown Castle          0  \n",
       "1            Cozy Entire Floor of Brownstone          0  \n",
       "2  Large Cozy 1 BR Apartment In Midtown East          0  \n",
       "3            Large Furnished Room Near B'way          1  \n",
       "4         Cute & Cozy Lower East Side 1 bdrm          0  "
      ]
     },
     "execution_count": 17,
     "metadata": {},
     "output_type": "execute_result"
    }
   ],
   "source": [
    "## assign labels to all room types \n",
    "## labeling categorical data\n",
    "## onehotencoder to be used for arrays\n",
    "from sklearn.preprocessing import LabelEncoder, OneHotEncoder\n",
    "lbl= LabelEncoder()\n",
    "airbnb['room_type']=lbl.fit_transform(airbnb['room_type'])\n",
    "airbnb.head(5)"
   ]
  },
  {
   "cell_type": "code",
   "execution_count": 18,
   "id": "34bc5c79",
   "metadata": {},
   "outputs": [
    {
     "data": {
      "text/plain": [
       "<AxesSubplot:>"
      ]
     },
     "execution_count": 18,
     "metadata": {},
     "output_type": "execute_result"
    },
    {
     "data": {
      "image/png": "[encoded data removed]",
      "text/plain": [
       "<Figure size 640x480 with 2 Axes>"
      ]
     },
     "metadata": {},
     "output_type": "display_data"
    }
   ],
   "source": [
    "## check correlation\n",
    "sns.heatmap(airbnb.corr())"
   ]
  },
  {
   "cell_type": "code",
   "execution_count": 19,
   "id": "6b9c17f7",
   "metadata": {},
   "outputs": [],
   "source": [
    "airbnb_bckup=airbnb"
   ]
  },
  {
   "cell_type": "code",
   "execution_count": 20,
   "id": "ac52df99",
   "metadata": {},
   "outputs": [
    {
     "data": {
      "text/html": [
       "<div>\n",
       "<style scoped>\n",
       "    .dataframe tbody tr th:only-of-type {\n",
       "        vertical-align: middle;\n",
       "    }\n",
       "\n",
       "    .dataframe tbody tr th {\n",
       "        vertical-align: top;\n",
       "    }\n",
       "\n",
       "    .dataframe thead th {\n",
       "        text-align: right;\n",
       "    }\n",
       "</style>\n",
       "<table border=\"1\" class=\"dataframe\">\n",
       "  <thead>\n",
       "    <tr style=\"text-align: right;\">\n",
       "      <th></th>\n",
       "      <th>listing_id</th>\n",
       "      <th>host_name</th>\n",
       "      <th>last_review</th>\n",
       "      <th>price($)</th>\n",
       "      <th>nbhood_full</th>\n",
       "      <th>description</th>\n",
       "      <th>room_type</th>\n",
       "    </tr>\n",
       "  </thead>\n",
       "  <tbody>\n",
       "    <tr>\n",
       "      <th>0</th>\n",
       "      <td>2595</td>\n",
       "      <td>Jennifer</td>\n",
       "      <td>2019-05-21</td>\n",
       "      <td>225.0</td>\n",
       "      <td>Manhattan, Midtown</td>\n",
       "      <td>Skylit Midtown Castle</td>\n",
       "      <td>0</td>\n",
       "    </tr>\n",
       "    <tr>\n",
       "      <th>1</th>\n",
       "      <td>3831</td>\n",
       "      <td>LisaRoxanne</td>\n",
       "      <td>2019-07-05</td>\n",
       "      <td>89.0</td>\n",
       "      <td>Brooklyn, Clinton Hill</td>\n",
       "      <td>Cozy Entire Floor of Brownstone</td>\n",
       "      <td>0</td>\n",
       "    </tr>\n",
       "    <tr>\n",
       "      <th>2</th>\n",
       "      <td>5099</td>\n",
       "      <td>Chris</td>\n",
       "      <td>2019-06-22</td>\n",
       "      <td>200.0</td>\n",
       "      <td>Manhattan, Murray Hill</td>\n",
       "      <td>Large Cozy 1 BR Apartment In Midtown East</td>\n",
       "      <td>0</td>\n",
       "    </tr>\n",
       "    <tr>\n",
       "      <th>3</th>\n",
       "      <td>5178</td>\n",
       "      <td>Shunichi</td>\n",
       "      <td>2019-06-24</td>\n",
       "      <td>79.0</td>\n",
       "      <td>Manhattan, Hell's Kitchen</td>\n",
       "      <td>Large Furnished Room Near B'way</td>\n",
       "      <td>1</td>\n",
       "    </tr>\n",
       "    <tr>\n",
       "      <th>4</th>\n",
       "      <td>5238</td>\n",
       "      <td>Ben</td>\n",
       "      <td>2019-06-09</td>\n",
       "      <td>150.0</td>\n",
       "      <td>Manhattan, Chinatown</td>\n",
       "      <td>Cute &amp; Cozy Lower East Side 1 bdrm</td>\n",
       "      <td>0</td>\n",
       "    </tr>\n",
       "    <tr>\n",
       "      <th>...</th>\n",
       "      <td>...</td>\n",
       "      <td>...</td>\n",
       "      <td>...</td>\n",
       "      <td>...</td>\n",
       "      <td>...</td>\n",
       "      <td>...</td>\n",
       "      <td>...</td>\n",
       "    </tr>\n",
       "    <tr>\n",
       "      <th>25204</th>\n",
       "      <td>36425863</td>\n",
       "      <td>Rusaa</td>\n",
       "      <td>2019-07-07</td>\n",
       "      <td>129.0</td>\n",
       "      <td>Manhattan, Upper East Side</td>\n",
       "      <td>Lovely Privet Bedroom with Privet Restroom</td>\n",
       "      <td>1</td>\n",
       "    </tr>\n",
       "    <tr>\n",
       "      <th>25205</th>\n",
       "      <td>36427429</td>\n",
       "      <td>H Ai</td>\n",
       "      <td>2019-07-07</td>\n",
       "      <td>45.0</td>\n",
       "      <td>Queens, Flushing</td>\n",
       "      <td>No.2 with queen size bed</td>\n",
       "      <td>1</td>\n",
       "    </tr>\n",
       "    <tr>\n",
       "      <th>25206</th>\n",
       "      <td>36438336</td>\n",
       "      <td>Ben</td>\n",
       "      <td>2019-07-07</td>\n",
       "      <td>235.0</td>\n",
       "      <td>Staten Island, Great Kills</td>\n",
       "      <td>Seas The Moment</td>\n",
       "      <td>1</td>\n",
       "    </tr>\n",
       "    <tr>\n",
       "      <th>25207</th>\n",
       "      <td>36442252</td>\n",
       "      <td>Blaine</td>\n",
       "      <td>2019-07-07</td>\n",
       "      <td>100.0</td>\n",
       "      <td>Bronx, Mott Haven</td>\n",
       "      <td>1B-1B apartment near by Metro</td>\n",
       "      <td>0</td>\n",
       "    </tr>\n",
       "    <tr>\n",
       "      <th>25208</th>\n",
       "      <td>36455809</td>\n",
       "      <td>Christine</td>\n",
       "      <td>2019-07-08</td>\n",
       "      <td>30.0</td>\n",
       "      <td>Brooklyn, Bushwick</td>\n",
       "      <td>Cozy Private Room in Bushwick, Brooklyn</td>\n",
       "      <td>1</td>\n",
       "    </tr>\n",
       "  </tbody>\n",
       "</table>\n",
       "<p>25209 rows × 7 columns</p>\n",
       "</div>"
      ],
      "text/plain": [
       "       listing_id    host_name last_review  price($)  \\\n",
       "0            2595     Jennifer  2019-05-21     225.0   \n",
       "1            3831  LisaRoxanne  2019-07-05      89.0   \n",
       "2            5099        Chris  2019-06-22     200.0   \n",
       "3            5178     Shunichi  2019-06-24      79.0   \n",
       "4            5238          Ben  2019-06-09     150.0   \n",
       "...           ...          ...         ...       ...   \n",
       "25204    36425863        Rusaa  2019-07-07     129.0   \n",
       "25205    36427429         H Ai  2019-07-07      45.0   \n",
       "25206    36438336          Ben  2019-07-07     235.0   \n",
       "25207    36442252       Blaine  2019-07-07     100.0   \n",
       "25208    36455809    Christine  2019-07-08      30.0   \n",
       "\n",
       "                      nbhood_full                                 description  \\\n",
       "0              Manhattan, Midtown                       Skylit Midtown Castle   \n",
       "1          Brooklyn, Clinton Hill             Cozy Entire Floor of Brownstone   \n",
       "2          Manhattan, Murray Hill   Large Cozy 1 BR Apartment In Midtown East   \n",
       "3       Manhattan, Hell's Kitchen             Large Furnished Room Near B'way   \n",
       "4            Manhattan, Chinatown          Cute & Cozy Lower East Side 1 bdrm   \n",
       "...                           ...                                         ...   \n",
       "25204  Manhattan, Upper East Side  Lovely Privet Bedroom with Privet Restroom   \n",
       "25205            Queens, Flushing                    No.2 with queen size bed   \n",
       "25206  Staten Island, Great Kills                             Seas The Moment   \n",
       "25207           Bronx, Mott Haven               1B-1B apartment near by Metro   \n",
       "25208          Brooklyn, Bushwick     Cozy Private Room in Bushwick, Brooklyn   \n",
       "\n",
       "       room_type  \n",
       "0              0  \n",
       "1              0  \n",
       "2              0  \n",
       "3              1  \n",
       "4              0  \n",
       "...          ...  \n",
       "25204          1  \n",
       "25205          1  \n",
       "25206          1  \n",
       "25207          0  \n",
       "25208          1  \n",
       "\n",
       "[25209 rows x 7 columns]"
      ]
     },
     "execution_count": 20,
     "metadata": {},
     "output_type": "execute_result"
    }
   ],
   "source": [
    "airbnb_bckup"
   ]
  },
  {
   "cell_type": "code",
   "execution_count": 21,
   "id": "20049daa",
   "metadata": {},
   "outputs": [],
   "source": [
    "airbnb_bckup=airbnb_bckup.drop([\"host_name\",\"nbhood_full\",'description'],axis=1)"
   ]
  },
  {
   "cell_type": "code",
   "execution_count": 22,
   "id": "3b428d0d",
   "metadata": {},
   "outputs": [
    {
     "data": {
      "text/html": [
       "<div>\n",
       "<style scoped>\n",
       "    .dataframe tbody tr th:only-of-type {\n",
       "        vertical-align: middle;\n",
       "    }\n",
       "\n",
       "    .dataframe tbody tr th {\n",
       "        vertical-align: top;\n",
       "    }\n",
       "\n",
       "    .dataframe thead th {\n",
       "        text-align: right;\n",
       "    }\n",
       "</style>\n",
       "<table border=\"1\" class=\"dataframe\">\n",
       "  <thead>\n",
       "    <tr style=\"text-align: right;\">\n",
       "      <th></th>\n",
       "      <th>listing_id</th>\n",
       "      <th>last_review</th>\n",
       "      <th>price($)</th>\n",
       "      <th>room_type</th>\n",
       "    </tr>\n",
       "  </thead>\n",
       "  <tbody>\n",
       "    <tr>\n",
       "      <th>0</th>\n",
       "      <td>2595</td>\n",
       "      <td>2019-05-21</td>\n",
       "      <td>225.0</td>\n",
       "      <td>0</td>\n",
       "    </tr>\n",
       "    <tr>\n",
       "      <th>1</th>\n",
       "      <td>3831</td>\n",
       "      <td>2019-07-05</td>\n",
       "      <td>89.0</td>\n",
       "      <td>0</td>\n",
       "    </tr>\n",
       "    <tr>\n",
       "      <th>2</th>\n",
       "      <td>5099</td>\n",
       "      <td>2019-06-22</td>\n",
       "      <td>200.0</td>\n",
       "      <td>0</td>\n",
       "    </tr>\n",
       "    <tr>\n",
       "      <th>3</th>\n",
       "      <td>5178</td>\n",
       "      <td>2019-06-24</td>\n",
       "      <td>79.0</td>\n",
       "      <td>1</td>\n",
       "    </tr>\n",
       "    <tr>\n",
       "      <th>4</th>\n",
       "      <td>5238</td>\n",
       "      <td>2019-06-09</td>\n",
       "      <td>150.0</td>\n",
       "      <td>0</td>\n",
       "    </tr>\n",
       "    <tr>\n",
       "      <th>...</th>\n",
       "      <td>...</td>\n",
       "      <td>...</td>\n",
       "      <td>...</td>\n",
       "      <td>...</td>\n",
       "    </tr>\n",
       "    <tr>\n",
       "      <th>25204</th>\n",
       "      <td>36425863</td>\n",
       "      <td>2019-07-07</td>\n",
       "      <td>129.0</td>\n",
       "      <td>1</td>\n",
       "    </tr>\n",
       "    <tr>\n",
       "      <th>25205</th>\n",
       "      <td>36427429</td>\n",
       "      <td>2019-07-07</td>\n",
       "      <td>45.0</td>\n",
       "      <td>1</td>\n",
       "    </tr>\n",
       "    <tr>\n",
       "      <th>25206</th>\n",
       "      <td>36438336</td>\n",
       "      <td>2019-07-07</td>\n",
       "      <td>235.0</td>\n",
       "      <td>1</td>\n",
       "    </tr>\n",
       "    <tr>\n",
       "      <th>25207</th>\n",
       "      <td>36442252</td>\n",
       "      <td>2019-07-07</td>\n",
       "      <td>100.0</td>\n",
       "      <td>0</td>\n",
       "    </tr>\n",
       "    <tr>\n",
       "      <th>25208</th>\n",
       "      <td>36455809</td>\n",
       "      <td>2019-07-08</td>\n",
       "      <td>30.0</td>\n",
       "      <td>1</td>\n",
       "    </tr>\n",
       "  </tbody>\n",
       "</table>\n",
       "<p>25209 rows × 4 columns</p>\n",
       "</div>"
      ],
      "text/plain": [
       "       listing_id last_review  price($)  room_type\n",
       "0            2595  2019-05-21     225.0          0\n",
       "1            3831  2019-07-05      89.0          0\n",
       "2            5099  2019-06-22     200.0          0\n",
       "3            5178  2019-06-24      79.0          1\n",
       "4            5238  2019-06-09     150.0          0\n",
       "...           ...         ...       ...        ...\n",
       "25204    36425863  2019-07-07     129.0          1\n",
       "25205    36427429  2019-07-07      45.0          1\n",
       "25206    36438336  2019-07-07     235.0          1\n",
       "25207    36442252  2019-07-07     100.0          0\n",
       "25208    36455809  2019-07-08      30.0          1\n",
       "\n",
       "[25209 rows x 4 columns]"
      ]
     },
     "execution_count": 22,
     "metadata": {},
     "output_type": "execute_result"
    }
   ],
   "source": [
    "airbnb_bckup"
   ]
  },
  {
   "cell_type": "code",
   "execution_count": 23,
   "id": "23de5709",
   "metadata": {},
   "outputs": [
    {
     "data": {
      "text/plain": [
       "count    25209.000000\n",
       "mean       141.777936\n",
       "std        147.349137\n",
       "min          0.000000\n",
       "25%         69.000000\n",
       "50%        105.000000\n",
       "75%        175.000000\n",
       "max       7500.000000\n",
       "Name: price($), dtype: float64"
      ]
     },
     "execution_count": 23,
     "metadata": {},
     "output_type": "execute_result"
    }
   ],
   "source": [
    "airbnb_bckup['price($)'].describe()"
   ]
  },
  {
   "cell_type": "markdown",
   "id": "09526b8d",
   "metadata": {},
   "source": [
    "### Calculate average price\n",
    "From the above data minimum price 0 shows that there are free listings and some of the listings have higher range price 75000. \n",
    "These are outliers that need to be cleaned up\n"
   ]
  },
  {
   "cell_type": "code",
   "execution_count": 24,
   "id": "957c51e9",
   "metadata": {},
   "outputs": [],
   "source": [
    "#check free listing\n",
    "airbnb_free = airbnb_bckup['price($)']==0.000000"
   ]
  },
  {
   "cell_type": "code",
   "execution_count": 25,
   "id": "9b218d18",
   "metadata": {},
   "outputs": [
    {
     "data": {
      "text/plain": [
       "False    25202\n",
       "True         7\n",
       "Name: price($), dtype: int64"
      ]
     },
     "execution_count": 25,
     "metadata": {},
     "output_type": "execute_result"
    }
   ],
   "source": [
    "airbnb_free.value_counts()"
   ]
  },
  {
   "cell_type": "code",
   "execution_count": 26,
   "id": "e9dc7ea1",
   "metadata": {},
   "outputs": [],
   "source": [
    "airbnb_avg=airbnb_bckup"
   ]
  },
  {
   "cell_type": "code",
   "execution_count": 27,
   "id": "a70a207d",
   "metadata": {},
   "outputs": [],
   "source": [
    "## Remove all 7 free listings\n",
    "airbnb_bckup=airbnb_bckup.loc[~airbnb_free]"
   ]
  },
  {
   "cell_type": "code",
   "execution_count": 28,
   "id": "4bd79e0a",
   "metadata": {},
   "outputs": [
    {
     "data": {
      "text/html": [
       "<div>\n",
       "<style scoped>\n",
       "    .dataframe tbody tr th:only-of-type {\n",
       "        vertical-align: middle;\n",
       "    }\n",
       "\n",
       "    .dataframe tbody tr th {\n",
       "        vertical-align: top;\n",
       "    }\n",
       "\n",
       "    .dataframe thead th {\n",
       "        text-align: right;\n",
       "    }\n",
       "</style>\n",
       "<table border=\"1\" class=\"dataframe\">\n",
       "  <thead>\n",
       "    <tr style=\"text-align: right;\">\n",
       "      <th></th>\n",
       "      <th>listing_id</th>\n",
       "      <th>price($)</th>\n",
       "      <th>room_type</th>\n",
       "    </tr>\n",
       "  </thead>\n",
       "  <tbody>\n",
       "    <tr>\n",
       "      <th>count</th>\n",
       "      <td>2.520200e+04</td>\n",
       "      <td>25202.000000</td>\n",
       "      <td>25202.000000</td>\n",
       "    </tr>\n",
       "    <tr>\n",
       "      <th>mean</th>\n",
       "      <td>2.068920e+07</td>\n",
       "      <td>141.817316</td>\n",
       "      <td>0.496826</td>\n",
       "    </tr>\n",
       "    <tr>\n",
       "      <th>std</th>\n",
       "      <td>1.103081e+07</td>\n",
       "      <td>147.350650</td>\n",
       "      <td>0.544451</td>\n",
       "    </tr>\n",
       "    <tr>\n",
       "      <th>min</th>\n",
       "      <td>2.595000e+03</td>\n",
       "      <td>10.000000</td>\n",
       "      <td>0.000000</td>\n",
       "    </tr>\n",
       "    <tr>\n",
       "      <th>25%</th>\n",
       "      <td>1.202115e+07</td>\n",
       "      <td>69.000000</td>\n",
       "      <td>0.000000</td>\n",
       "    </tr>\n",
       "    <tr>\n",
       "      <th>50%</th>\n",
       "      <td>2.234547e+07</td>\n",
       "      <td>105.000000</td>\n",
       "      <td>0.000000</td>\n",
       "    </tr>\n",
       "    <tr>\n",
       "      <th>75%</th>\n",
       "      <td>3.037697e+07</td>\n",
       "      <td>175.000000</td>\n",
       "      <td>1.000000</td>\n",
       "    </tr>\n",
       "    <tr>\n",
       "      <th>max</th>\n",
       "      <td>3.645581e+07</td>\n",
       "      <td>7500.000000</td>\n",
       "      <td>2.000000</td>\n",
       "    </tr>\n",
       "  </tbody>\n",
       "</table>\n",
       "</div>"
      ],
      "text/plain": [
       "         listing_id      price($)     room_type\n",
       "count  2.520200e+04  25202.000000  25202.000000\n",
       "mean   2.068920e+07    141.817316      0.496826\n",
       "std    1.103081e+07    147.350650      0.544451\n",
       "min    2.595000e+03     10.000000      0.000000\n",
       "25%    1.202115e+07     69.000000      0.000000\n",
       "50%    2.234547e+07    105.000000      0.000000\n",
       "75%    3.037697e+07    175.000000      1.000000\n",
       "max    3.645581e+07   7500.000000      2.000000"
      ]
     },
     "execution_count": 28,
     "metadata": {},
     "output_type": "execute_result"
    }
   ],
   "source": [
    "airbnb_bckup.describe()"
   ]
  },
  {
   "cell_type": "code",
   "execution_count": 29,
   "id": "eadb0c87",
   "metadata": {},
   "outputs": [
    {
     "data": {
      "text/plain": [
       "False    25201\n",
       "True         1\n",
       "Name: price($), dtype: int64"
      ]
     },
     "execution_count": 29,
     "metadata": {},
     "output_type": "execute_result"
    }
   ],
   "source": [
    "#check outlier listing\n",
    "outlier= airbnb_bckup['price($)']==7500\n",
    "outlier.value_counts()"
   ]
  },
  {
   "cell_type": "code",
   "execution_count": 30,
   "id": "f66963c3",
   "metadata": {},
   "outputs": [],
   "source": [
    "# Remove one outlier listing\n",
    "airbnb_bckup=airbnb_bckup.loc[~outlier]\n"
   ]
  },
  {
   "cell_type": "code",
   "execution_count": 31,
   "id": "e5345522",
   "metadata": {},
   "outputs": [
    {
     "data": {
      "text/html": [
       "<div>\n",
       "<style scoped>\n",
       "    .dataframe tbody tr th:only-of-type {\n",
       "        vertical-align: middle;\n",
       "    }\n",
       "\n",
       "    .dataframe tbody tr th {\n",
       "        vertical-align: top;\n",
       "    }\n",
       "\n",
       "    .dataframe thead th {\n",
       "        text-align: right;\n",
       "    }\n",
       "</style>\n",
       "<table border=\"1\" class=\"dataframe\">\n",
       "  <thead>\n",
       "    <tr style=\"text-align: right;\">\n",
       "      <th></th>\n",
       "      <th>listing_id</th>\n",
       "      <th>last_review</th>\n",
       "      <th>price($)</th>\n",
       "      <th>room_type</th>\n",
       "    </tr>\n",
       "  </thead>\n",
       "  <tbody>\n",
       "    <tr>\n",
       "      <th>0</th>\n",
       "      <td>2595</td>\n",
       "      <td>2019-05-21</td>\n",
       "      <td>225.0</td>\n",
       "      <td>0</td>\n",
       "    </tr>\n",
       "    <tr>\n",
       "      <th>1</th>\n",
       "      <td>3831</td>\n",
       "      <td>2019-07-05</td>\n",
       "      <td>89.0</td>\n",
       "      <td>0</td>\n",
       "    </tr>\n",
       "    <tr>\n",
       "      <th>2</th>\n",
       "      <td>5099</td>\n",
       "      <td>2019-06-22</td>\n",
       "      <td>200.0</td>\n",
       "      <td>0</td>\n",
       "    </tr>\n",
       "    <tr>\n",
       "      <th>3</th>\n",
       "      <td>5178</td>\n",
       "      <td>2019-06-24</td>\n",
       "      <td>79.0</td>\n",
       "      <td>1</td>\n",
       "    </tr>\n",
       "    <tr>\n",
       "      <th>4</th>\n",
       "      <td>5238</td>\n",
       "      <td>2019-06-09</td>\n",
       "      <td>150.0</td>\n",
       "      <td>0</td>\n",
       "    </tr>\n",
       "    <tr>\n",
       "      <th>...</th>\n",
       "      <td>...</td>\n",
       "      <td>...</td>\n",
       "      <td>...</td>\n",
       "      <td>...</td>\n",
       "    </tr>\n",
       "    <tr>\n",
       "      <th>25204</th>\n",
       "      <td>36425863</td>\n",
       "      <td>2019-07-07</td>\n",
       "      <td>129.0</td>\n",
       "      <td>1</td>\n",
       "    </tr>\n",
       "    <tr>\n",
       "      <th>25205</th>\n",
       "      <td>36427429</td>\n",
       "      <td>2019-07-07</td>\n",
       "      <td>45.0</td>\n",
       "      <td>1</td>\n",
       "    </tr>\n",
       "    <tr>\n",
       "      <th>25206</th>\n",
       "      <td>36438336</td>\n",
       "      <td>2019-07-07</td>\n",
       "      <td>235.0</td>\n",
       "      <td>1</td>\n",
       "    </tr>\n",
       "    <tr>\n",
       "      <th>25207</th>\n",
       "      <td>36442252</td>\n",
       "      <td>2019-07-07</td>\n",
       "      <td>100.0</td>\n",
       "      <td>0</td>\n",
       "    </tr>\n",
       "    <tr>\n",
       "      <th>25208</th>\n",
       "      <td>36455809</td>\n",
       "      <td>2019-07-08</td>\n",
       "      <td>30.0</td>\n",
       "      <td>1</td>\n",
       "    </tr>\n",
       "  </tbody>\n",
       "</table>\n",
       "<p>25201 rows × 4 columns</p>\n",
       "</div>"
      ],
      "text/plain": [
       "       listing_id last_review  price($)  room_type\n",
       "0            2595  2019-05-21     225.0          0\n",
       "1            3831  2019-07-05      89.0          0\n",
       "2            5099  2019-06-22     200.0          0\n",
       "3            5178  2019-06-24      79.0          1\n",
       "4            5238  2019-06-09     150.0          0\n",
       "...           ...         ...       ...        ...\n",
       "25204    36425863  2019-07-07     129.0          1\n",
       "25205    36427429  2019-07-07      45.0          1\n",
       "25206    36438336  2019-07-07     235.0          1\n",
       "25207    36442252  2019-07-07     100.0          0\n",
       "25208    36455809  2019-07-08      30.0          1\n",
       "\n",
       "[25201 rows x 4 columns]"
      ]
     },
     "execution_count": 31,
     "metadata": {},
     "output_type": "execute_result"
    }
   ],
   "source": [
    "airbnb_bckup"
   ]
  },
  {
   "cell_type": "code",
   "execution_count": 32,
   "id": "25aaf2c7",
   "metadata": {},
   "outputs": [],
   "source": [
    "avg_price =  round(airbnb_bckup['price($)'].mean(),2)"
   ]
  },
  {
   "cell_type": "code",
   "execution_count": 33,
   "id": "938bdbe9",
   "metadata": {},
   "outputs": [
    {
     "name": "stdout",
     "output_type": "stream",
     "text": [
      "The average price per night for an Airbnb listing in NYC is $141.53.\n"
     ]
    }
   ],
   "source": [
    "# Print the average price\n",
    "print(\"The average price per night for an Airbnb listing in NYC is ${}.\".format(avg_price))"
   ]
  },
  {
   "cell_type": "markdown",
   "id": "dea09b15",
   "metadata": {},
   "source": [
    "### Split the dataset into training and testing set"
   ]
  },
  {
   "cell_type": "code",
   "execution_count": 34,
   "id": "0839cc07",
   "metadata": {},
   "outputs": [],
   "source": [
    "X = airbnb_bckup.drop('price($)', axis=1).values\n",
    "X = airbnb_bckup.drop('last_review', axis=1).values\n",
    "y = airbnb_bckup['price($)'].values\n",
    "y = np.log10(y)"
   ]
  },
  {
   "cell_type": "markdown",
   "id": "934a3d52",
   "metadata": {},
   "source": [
    "### Logistic Regression"
   ]
  },
  {
   "cell_type": "code",
   "execution_count": 127,
   "id": "24b7fc5b",
   "metadata": {},
   "outputs": [],
   "source": [
    "## create new discrete value column to tag price value > then 100 as 1 else 0\n",
    "airbnb_bckup['price_range']=np.where(airbnb_bckup['price($)']>100, 1, 0)"
   ]
  },
  {
   "cell_type": "code",
   "execution_count": 146,
   "id": "351abefa",
   "metadata": {},
   "outputs": [],
   "source": [
    "## create new discrete value column to tag price value > then 100 as 1 else 0\n",
    "airbnb['price_range']=np.where(airbnb['price($)']>100, 1, 0)"
   ]
  },
  {
   "cell_type": "code",
   "execution_count": 147,
   "id": "093677c9",
   "metadata": {},
   "outputs": [
    {
     "data": {
      "text/html": [
       "<div>\n",
       "<style scoped>\n",
       "    .dataframe tbody tr th:only-of-type {\n",
       "        vertical-align: middle;\n",
       "    }\n",
       "\n",
       "    .dataframe tbody tr th {\n",
       "        vertical-align: top;\n",
       "    }\n",
       "\n",
       "    .dataframe thead th {\n",
       "        text-align: right;\n",
       "    }\n",
       "</style>\n",
       "<table border=\"1\" class=\"dataframe\">\n",
       "  <thead>\n",
       "    <tr style=\"text-align: right;\">\n",
       "      <th></th>\n",
       "      <th>listing_id</th>\n",
       "      <th>host_name</th>\n",
       "      <th>last_review</th>\n",
       "      <th>price($)</th>\n",
       "      <th>nbhood_full</th>\n",
       "      <th>description</th>\n",
       "      <th>room_type</th>\n",
       "      <th>price_range</th>\n",
       "    </tr>\n",
       "  </thead>\n",
       "  <tbody>\n",
       "    <tr>\n",
       "      <th>0</th>\n",
       "      <td>2595</td>\n",
       "      <td>Jennifer</td>\n",
       "      <td>2019-05-21</td>\n",
       "      <td>225.0</td>\n",
       "      <td>Manhattan, Midtown</td>\n",
       "      <td>Skylit Midtown Castle</td>\n",
       "      <td>0</td>\n",
       "      <td>1</td>\n",
       "    </tr>\n",
       "    <tr>\n",
       "      <th>1</th>\n",
       "      <td>3831</td>\n",
       "      <td>LisaRoxanne</td>\n",
       "      <td>2019-07-05</td>\n",
       "      <td>89.0</td>\n",
       "      <td>Brooklyn, Clinton Hill</td>\n",
       "      <td>Cozy Entire Floor of Brownstone</td>\n",
       "      <td>0</td>\n",
       "      <td>0</td>\n",
       "    </tr>\n",
       "    <tr>\n",
       "      <th>2</th>\n",
       "      <td>5099</td>\n",
       "      <td>Chris</td>\n",
       "      <td>2019-06-22</td>\n",
       "      <td>200.0</td>\n",
       "      <td>Manhattan, Murray Hill</td>\n",
       "      <td>Large Cozy 1 BR Apartment In Midtown East</td>\n",
       "      <td>0</td>\n",
       "      <td>1</td>\n",
       "    </tr>\n",
       "    <tr>\n",
       "      <th>3</th>\n",
       "      <td>5178</td>\n",
       "      <td>Shunichi</td>\n",
       "      <td>2019-06-24</td>\n",
       "      <td>79.0</td>\n",
       "      <td>Manhattan, Hell's Kitchen</td>\n",
       "      <td>Large Furnished Room Near B'way</td>\n",
       "      <td>1</td>\n",
       "      <td>0</td>\n",
       "    </tr>\n",
       "    <tr>\n",
       "      <th>4</th>\n",
       "      <td>5238</td>\n",
       "      <td>Ben</td>\n",
       "      <td>2019-06-09</td>\n",
       "      <td>150.0</td>\n",
       "      <td>Manhattan, Chinatown</td>\n",
       "      <td>Cute &amp; Cozy Lower East Side 1 bdrm</td>\n",
       "      <td>0</td>\n",
       "      <td>1</td>\n",
       "    </tr>\n",
       "    <tr>\n",
       "      <th>...</th>\n",
       "      <td>...</td>\n",
       "      <td>...</td>\n",
       "      <td>...</td>\n",
       "      <td>...</td>\n",
       "      <td>...</td>\n",
       "      <td>...</td>\n",
       "      <td>...</td>\n",
       "      <td>...</td>\n",
       "    </tr>\n",
       "    <tr>\n",
       "      <th>95</th>\n",
       "      <td>30927</td>\n",
       "      <td>Cs</td>\n",
       "      <td>2019-06-14</td>\n",
       "      <td>105.0</td>\n",
       "      <td>Manhattan, Lower East Side</td>\n",
       "      <td>Unique &amp; Charming small 1br Apt. LES</td>\n",
       "      <td>0</td>\n",
       "      <td>1</td>\n",
       "    </tr>\n",
       "    <tr>\n",
       "      <th>96</th>\n",
       "      <td>31130</td>\n",
       "      <td>Lara</td>\n",
       "      <td>2019-05-26</td>\n",
       "      <td>130.0</td>\n",
       "      <td>Manhattan, Hell's Kitchen</td>\n",
       "      <td>Most Central Location!</td>\n",
       "      <td>1</td>\n",
       "      <td>1</td>\n",
       "    </tr>\n",
       "    <tr>\n",
       "      <th>97</th>\n",
       "      <td>31555</td>\n",
       "      <td>Tom</td>\n",
       "      <td>2019-07-01</td>\n",
       "      <td>115.0</td>\n",
       "      <td>Manhattan, West Village</td>\n",
       "      <td>Luminous Beautiful West Village Studio</td>\n",
       "      <td>0</td>\n",
       "      <td>1</td>\n",
       "    </tr>\n",
       "    <tr>\n",
       "      <th>98</th>\n",
       "      <td>31902</td>\n",
       "      <td>Sunder</td>\n",
       "      <td>2019-01-01</td>\n",
       "      <td>77.0</td>\n",
       "      <td>Brooklyn, Flatlands</td>\n",
       "      <td>Sanctuary in East Flatbush</td>\n",
       "      <td>1</td>\n",
       "      <td>0</td>\n",
       "    </tr>\n",
       "    <tr>\n",
       "      <th>99</th>\n",
       "      <td>31994</td>\n",
       "      <td>Waldemar</td>\n",
       "      <td>2019-06-24</td>\n",
       "      <td>76.0</td>\n",
       "      <td>Brooklyn, Clinton Hill</td>\n",
       "      <td>Room with En Suite Bathroom &amp; Deck</td>\n",
       "      <td>1</td>\n",
       "      <td>0</td>\n",
       "    </tr>\n",
       "  </tbody>\n",
       "</table>\n",
       "<p>100 rows × 8 columns</p>\n",
       "</div>"
      ],
      "text/plain": [
       "    listing_id    host_name last_review  price($)                 nbhood_full  \\\n",
       "0         2595     Jennifer  2019-05-21     225.0          Manhattan, Midtown   \n",
       "1         3831  LisaRoxanne  2019-07-05      89.0      Brooklyn, Clinton Hill   \n",
       "2         5099        Chris  2019-06-22     200.0      Manhattan, Murray Hill   \n",
       "3         5178     Shunichi  2019-06-24      79.0   Manhattan, Hell's Kitchen   \n",
       "4         5238          Ben  2019-06-09     150.0        Manhattan, Chinatown   \n",
       "..         ...          ...         ...       ...                         ...   \n",
       "95       30927           Cs  2019-06-14     105.0  Manhattan, Lower East Side   \n",
       "96       31130         Lara  2019-05-26     130.0   Manhattan, Hell's Kitchen   \n",
       "97       31555          Tom  2019-07-01     115.0     Manhattan, West Village   \n",
       "98       31902       Sunder  2019-01-01      77.0         Brooklyn, Flatlands   \n",
       "99       31994     Waldemar  2019-06-24      76.0      Brooklyn, Clinton Hill   \n",
       "\n",
       "                                  description  room_type  price_range  \n",
       "0                       Skylit Midtown Castle          0            1  \n",
       "1             Cozy Entire Floor of Brownstone          0            0  \n",
       "2   Large Cozy 1 BR Apartment In Midtown East          0            1  \n",
       "3             Large Furnished Room Near B'way          1            0  \n",
       "4          Cute & Cozy Lower East Side 1 bdrm          0            1  \n",
       "..                                        ...        ...          ...  \n",
       "95       Unique & Charming small 1br Apt. LES          0            1  \n",
       "96                     Most Central Location!          1            1  \n",
       "97     Luminous Beautiful West Village Studio          0            1  \n",
       "98                 Sanctuary in East Flatbush          1            0  \n",
       "99         Room with En Suite Bathroom & Deck          1            0  \n",
       "\n",
       "[100 rows x 8 columns]"
      ]
     },
     "execution_count": 147,
     "metadata": {},
     "output_type": "execute_result"
    }
   ],
   "source": [
    "airbnb.head(100)"
   ]
  },
  {
   "cell_type": "code",
   "execution_count": 166,
   "id": "1e915af5",
   "metadata": {},
   "outputs": [],
   "source": [
    "## Select columns - variables\n",
    "x=airbnb.iloc[:,[3,6]].values\n",
    "y=airbnb.iloc[:,7].values"
   ]
  },
  {
   "cell_type": "code",
   "execution_count": 167,
   "id": "500b64e3",
   "metadata": {},
   "outputs": [
    {
     "data": {
      "text/plain": [
       "array([[225.,   0.],\n",
       "       [ 89.,   0.],\n",
       "       [200.,   0.],\n",
       "       ...,\n",
       "       [235.,   1.],\n",
       "       [100.,   0.],\n",
       "       [ 30.,   1.]])"
      ]
     },
     "execution_count": 167,
     "metadata": {},
     "output_type": "execute_result"
    }
   ],
   "source": [
    "x"
   ]
  },
  {
   "cell_type": "code",
   "execution_count": 168,
   "id": "e4d9904b",
   "metadata": {},
   "outputs": [
    {
     "data": {
      "text/plain": [
       "array([1, 0, 1, ..., 1, 0, 0])"
      ]
     },
     "execution_count": 168,
     "metadata": {},
     "output_type": "execute_result"
    }
   ],
   "source": [
    "y"
   ]
  },
  {
   "cell_type": "code",
   "execution_count": 182,
   "id": "88d157a4",
   "metadata": {},
   "outputs": [],
   "source": [
    "#split the dataset\n",
    "from sklearn.model_selection import train_test_split\n",
    "logxtrain,logxtest,logytrain,logytest=train_test_split(x,y,test_size=0.25,random_state=0)"
   ]
  },
  {
   "cell_type": "code",
   "execution_count": 183,
   "id": "78ecd927",
   "metadata": {},
   "outputs": [
    {
     "data": {
      "text/plain": [
       "array([[ 65.,   1.],\n",
       "       [100.,   1.],\n",
       "       [168.,   0.],\n",
       "       ...,\n",
       "       [150.,   0.],\n",
       "       [ 45.,   1.],\n",
       "       [ 49.,   1.]])"
      ]
     },
     "execution_count": 183,
     "metadata": {},
     "output_type": "execute_result"
    }
   ],
   "source": [
    "logxtrain"
   ]
  },
  {
   "cell_type": "code",
   "execution_count": 184,
   "id": "3f99a0fc",
   "metadata": {},
   "outputs": [
    {
     "data": {
      "text/plain": [
       "array([[225.,   0.],\n",
       "       [ 45.,   2.],\n",
       "       [ 55.,   1.],\n",
       "       ...,\n",
       "       [ 70.,   2.],\n",
       "       [399.,   0.],\n",
       "       [ 33.,   1.]])"
      ]
     },
     "execution_count": 184,
     "metadata": {},
     "output_type": "execute_result"
    }
   ],
   "source": [
    "logxtest"
   ]
  },
  {
   "cell_type": "code",
   "execution_count": 185,
   "id": "3a0f71a5",
   "metadata": {},
   "outputs": [
    {
     "data": {
      "text/plain": [
       "array([0, 0, 1, ..., 1, 0, 0])"
      ]
     },
     "execution_count": 185,
     "metadata": {},
     "output_type": "execute_result"
    }
   ],
   "source": [
    "logytrain"
   ]
  },
  {
   "cell_type": "code",
   "execution_count": 186,
   "id": "4c2a62d7",
   "metadata": {},
   "outputs": [
    {
     "data": {
      "text/plain": [
       "array([1, 0, 0, ..., 0, 1, 0])"
      ]
     },
     "execution_count": 186,
     "metadata": {},
     "output_type": "execute_result"
    }
   ],
   "source": [
    "logytest"
   ]
  },
  {
   "cell_type": "code",
   "execution_count": 202,
   "id": "284c5ac8",
   "metadata": {},
   "outputs": [],
   "source": [
    "## preprocessing - fit the model\n",
    "from sklearn.preprocessing import StandardScaler\n",
    "sc=StandardScaler()\n",
    "logxtrain=sc.fit_transform(logxtrain)"
   ]
  },
  {
   "cell_type": "code",
   "execution_count": 216,
   "id": "6494673f",
   "metadata": {},
   "outputs": [
    {
     "data": {
      "text/plain": [
       "LogisticRegression()"
      ]
     },
     "execution_count": 216,
     "metadata": {},
     "output_type": "execute_result"
    }
   ],
   "source": [
    "##Select classifier\n",
    "from sklearn.linear_model import LogisticRegression\n",
    "my_classifier=LogisticRegression()\n",
    "my_classifier.fit(logxtrain,logytrain)"
   ]
  },
  {
   "cell_type": "code",
   "execution_count": 217,
   "id": "4cf25e9f",
   "metadata": {},
   "outputs": [],
   "source": [
    "#predict the test results\n",
    "predlogy= my_classifier.predict(logxtest)"
   ]
  },
  {
   "cell_type": "code",
   "execution_count": 218,
   "id": "a2b03c24",
   "metadata": {},
   "outputs": [
    {
     "data": {
      "text/plain": [
       "array([1, 0, 0, ..., 0, 1, 0])"
      ]
     },
     "execution_count": 218,
     "metadata": {},
     "output_type": "execute_result"
    }
   ],
   "source": [
    "predlogy"
   ]
  },
  {
   "cell_type": "code",
   "execution_count": 219,
   "id": "7152ea27",
   "metadata": {},
   "outputs": [],
   "source": [
    "from sklearn.metrics import confusion_matrix\n",
    "cm=confusion_matrix(logytest,predlogy)"
   ]
  },
  {
   "cell_type": "code",
   "execution_count": 220,
   "id": "563ad2af",
   "metadata": {},
   "outputs": [
    {
     "data": {
      "text/plain": [
       "array([[3073,    0],\n",
       "       [  36, 3194]])"
      ]
     },
     "execution_count": 220,
     "metadata": {},
     "output_type": "execute_result"
    }
   ],
   "source": [
    "cm"
   ]
  },
  {
   "cell_type": "code",
   "execution_count": 221,
   "id": "12832fab",
   "metadata": {},
   "outputs": [
    {
     "data": {
      "text/html": [
       "<div>\n",
       "<style scoped>\n",
       "    .dataframe tbody tr th:only-of-type {\n",
       "        vertical-align: middle;\n",
       "    }\n",
       "\n",
       "    .dataframe tbody tr th {\n",
       "        vertical-align: top;\n",
       "    }\n",
       "\n",
       "    .dataframe thead th {\n",
       "        text-align: right;\n",
       "    }\n",
       "</style>\n",
       "<table border=\"1\" class=\"dataframe\">\n",
       "  <thead>\n",
       "    <tr style=\"text-align: right;\">\n",
       "      <th></th>\n",
       "      <th>Actual</th>\n",
       "      <th>Predicted</th>\n",
       "    </tr>\n",
       "  </thead>\n",
       "  <tbody>\n",
       "    <tr>\n",
       "      <th>0</th>\n",
       "      <td>10</td>\n",
       "      <td>10</td>\n",
       "    </tr>\n",
       "    <tr>\n",
       "      <th>1</th>\n",
       "      <td>1</td>\n",
       "      <td>1</td>\n",
       "    </tr>\n",
       "    <tr>\n",
       "      <th>2</th>\n",
       "      <td>1</td>\n",
       "      <td>1</td>\n",
       "    </tr>\n",
       "    <tr>\n",
       "      <th>3</th>\n",
       "      <td>1</td>\n",
       "      <td>1</td>\n",
       "    </tr>\n",
       "    <tr>\n",
       "      <th>4</th>\n",
       "      <td>1</td>\n",
       "      <td>1</td>\n",
       "    </tr>\n",
       "    <tr>\n",
       "      <th>5</th>\n",
       "      <td>1</td>\n",
       "      <td>1</td>\n",
       "    </tr>\n",
       "    <tr>\n",
       "      <th>6</th>\n",
       "      <td>1</td>\n",
       "      <td>1</td>\n",
       "    </tr>\n",
       "    <tr>\n",
       "      <th>7</th>\n",
       "      <td>1</td>\n",
       "      <td>1</td>\n",
       "    </tr>\n",
       "    <tr>\n",
       "      <th>8</th>\n",
       "      <td>1</td>\n",
       "      <td>1</td>\n",
       "    </tr>\n",
       "    <tr>\n",
       "      <th>9</th>\n",
       "      <td>1</td>\n",
       "      <td>1</td>\n",
       "    </tr>\n",
       "  </tbody>\n",
       "</table>\n",
       "</div>"
      ],
      "text/plain": [
       "   Actual  Predicted\n",
       "0      10         10\n",
       "1       1          1\n",
       "2       1          1\n",
       "3       1          1\n",
       "4       1          1\n",
       "5       1          1\n",
       "6       1          1\n",
       "7       1          1\n",
       "8       1          1\n",
       "9       1          1"
      ]
     },
     "execution_count": 221,
     "metadata": {},
     "output_type": "execute_result"
    }
   ],
   "source": [
    "df = pd.DataFrame({'Actual': np.round(10 ** logytest, 0), \n",
    "                   'Predicted': np.round(10 ** predlogy, 0)})\n",
    "df.head(10)"
   ]
  },
  {
   "cell_type": "code",
   "execution_count": 222,
   "id": "55ef2143",
   "metadata": {},
   "outputs": [
    {
     "data": {
      "image/png": "[encoded data removed]",
      "text/plain": [
       "<Figure size 750x750 with 1 Axes>"
      ]
     },
     "metadata": {},
     "output_type": "display_data"
    },
    {
     "name": "stdout",
     "output_type": "stream",
     "text": [
      "              precision    recall  f1-score   support\n",
      "\n",
      "           0       1.00      0.99      0.99      3109\n",
      "           1       0.99      1.00      0.99      3194\n",
      "\n",
      "    accuracy                           0.99      6303\n",
      "   macro avg       0.99      0.99      0.99      6303\n",
      "weighted avg       0.99      0.99      0.99      6303\n",
      "\n"
     ]
    }
   ],
   "source": [
    "\n",
    "from sklearn.metrics import accuracy_score, roc_curve, auc, precision_score, recall_score, f1_score, confusion_matrix, classification_report, jaccard_score, log_loss, mean_squared_error, confusion_matrix\n",
    "conf_matrix = confusion_matrix(y_true=logytest, y_pred=predlogy)\n",
    "fig, ax = plt.subplots(figsize=(7.5, 7.5))\n",
    "ax.matshow(conf_matrix, cmap=plt.cm.Blues, alpha=0.3)\n",
    "for i in range(conf_matrix.shape[0]):\n",
    "  for j in range(conf_matrix.shape[1]):\n",
    "    ax.text(x=j, y=i,s=conf_matrix[i, j], va='center', ha='center', size='xx-large')\n",
    "plt.xlabel('Predictions', fontsize=18)\n",
    "plt.ylabel('Actuals', fontsize=18)\n",
    "plt.title('Confusion Matrix', fontsize=18)\n",
    "plt.show()\n",
    "report = classification_report(predlogy, logytest)\n",
    "print(report)"
   ]
  },
  {
   "cell_type": "code",
   "execution_count": null,
   "id": "d184c7d0",
   "metadata": {},
   "outputs": [],
   "source": []
  }
 ],
 "metadata": {
  "kernelspec": {
   "display_name": "Python 3 (ipykernel)",
   "language": "python",
   "name": "python3"
  },
  "language_info": {
   "codemirror_mode": {
    "name": "ipython",
    "version": 3
   },
   "file_extension": ".py",
   "mimetype": "text/x-python",
   "name": "python",
   "nbconvert_exporter": "python",
   "pygments_lexer": "ipython3",
   "version": "3.9.13"
  }
 },
 "nbformat": 4,
 "nbformat_minor": 5
}
